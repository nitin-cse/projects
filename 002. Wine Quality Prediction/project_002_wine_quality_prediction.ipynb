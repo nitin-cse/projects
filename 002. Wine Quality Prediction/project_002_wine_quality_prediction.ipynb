{
  "cells": [
    {
      "cell_type": "markdown",
      "metadata": {
        "id": "x75m2vH4oXY9"
      },
      "source": [
        "# **PROJECT - 002**"
      ]
    },
    {
      "cell_type": "markdown",
      "metadata": {
        "id": "rSk_ggFLpzPh"
      },
      "source": [
        "## **0. Project Details**\n",
        "**Project Name:** Wine Qualtiy Prediction\n",
        "<br>**Team Name:** Arm is Strong\n",
        "<br>**Team Members:** Nitin Rawat\n",
        "<br>**Starting Date:** 13-FEB-2024\n",
        "<br>**Objective:**\n",
        "<br>&nbsp;&nbsp;&nbsp;&nbsp;**1.** Given wine dataset including multivales such as fixed acidity, volitile acidity,..., quality; we have to develop machine learning model which can later predict quality of wine using the input paratmers.\n",
        "<br>&nbsp;&nbsp;&nbsp;&nbsp;**2.** This will enable wine makers an understanding of wine quality for a given combination of incredients etc.\n",
        "<br>**Machine Learning Method:** A set of historical dataset provided with incredients and wine quality and predicting quality of wine using any other combination becomes an application of Supervise Machine Leanrnign.\n",
        "<br>**Type of Supervise Learning:** Since quality of wine ranging from 0 to 10, we could have gone through continuous supervised learning. but we been asked to label wheather combination yeilds good wine or not.\n",
        "<br>&nbsp;&nbsp;&nbsp;&nbsp;**1.** A wine will be considered as good if quailty is scored more than equal to 6 else a bad wine.\n",
        "<br>&nbsp;&nbsp;&nbsp;&nbsp;**2.** Therefore, this will be perfect case of Classification Supervised Machine Learning"
      ]
    },
    {
      "cell_type": "markdown",
      "metadata": {
        "id": "CbuidsQOosK5"
      },
      "source": [
        "## **1. Importing Modules**"
      ]
    },
    {
      "cell_type": "code",
      "execution_count": 1,
      "metadata": {
        "id": "Rttc2js_o495"
      },
      "outputs": [],
      "source": [
        "# Data Manipulatoin Module\n",
        "import pandas as pd\n",
        "import numpy as np\n",
        "\n",
        "# Data Visualization Moduel\n",
        "import matplotlib.pyplot as plt\n",
        "import seaborn as sns\n",
        "\n",
        "# Data Pre-Processing\n",
        "from sklearn.preprocessing import StandardScaler, LabelEncoder\n",
        "\n",
        "# Machine Learning Algorithms\n",
        "from sklearn.model_selection import train_test_split, GridSearchCV, cross_val_score\n",
        "from sklearn.ensemble import RandomForestClassifier\n",
        "from sklearn.linear_model import SGDClassifier\n",
        "from sklearn.svm import SVC\n",
        "\n",
        "# Machine Learning Performance Measure\n",
        "from sklearn.metrics import confusion_matrix, classification_report\n",
        "\n",
        "# To ignore warnings\n",
        "import warnings\n",
        "warnings.filterwarnings('ignore')"
      ]
    },
    {
      "cell_type": "markdown",
      "metadata": {
        "id": "xRtJ7NmGoeLr"
      },
      "source": [
        "## **2. Reading Input File**\n",
        "**Accessing Kaggle data through Colab:** Reference [link](https://saturncloud.io/blog/how-to-use-kaggle-datasets-in-google-colab/)"
      ]
    },
    {
      "cell_type": "code",
      "execution_count": 2,
      "metadata": {
        "colab": {
          "base_uri": "https://localhost:8080/"
        },
        "id": "xKnuXLIDlhXw",
        "outputId": "ce2da261-814c-44c3-b348-49232b232d52"
      },
      "outputs": [
        {
          "output_type": "stream",
          "name": "stdout",
          "text": [
            "Requirement already satisfied: kaggle in /usr/local/lib/python3.10/dist-packages (1.5.16)\n",
            "Requirement already satisfied: six>=1.10 in /usr/local/lib/python3.10/dist-packages (from kaggle) (1.16.0)\n",
            "Requirement already satisfied: certifi in /usr/local/lib/python3.10/dist-packages (from kaggle) (2024.2.2)\n",
            "Requirement already satisfied: python-dateutil in /usr/local/lib/python3.10/dist-packages (from kaggle) (2.8.2)\n",
            "Requirement already satisfied: requests in /usr/local/lib/python3.10/dist-packages (from kaggle) (2.31.0)\n",
            "Requirement already satisfied: tqdm in /usr/local/lib/python3.10/dist-packages (from kaggle) (4.66.2)\n",
            "Requirement already satisfied: python-slugify in /usr/local/lib/python3.10/dist-packages (from kaggle) (8.0.4)\n",
            "Requirement already satisfied: urllib3 in /usr/local/lib/python3.10/dist-packages (from kaggle) (2.0.7)\n",
            "Requirement already satisfied: bleach in /usr/local/lib/python3.10/dist-packages (from kaggle) (6.1.0)\n",
            "Requirement already satisfied: webencodings in /usr/local/lib/python3.10/dist-packages (from bleach->kaggle) (0.5.1)\n",
            "Requirement already satisfied: text-unidecode>=1.3 in /usr/local/lib/python3.10/dist-packages (from python-slugify->kaggle) (1.3)\n",
            "Requirement already satisfied: charset-normalizer<4,>=2 in /usr/local/lib/python3.10/dist-packages (from requests->kaggle) (3.3.2)\n",
            "Requirement already satisfied: idna<4,>=2.5 in /usr/local/lib/python3.10/dist-packages (from requests->kaggle) (3.6)\n"
          ]
        }
      ],
      "source": [
        "!pip install kaggle"
      ]
    },
    {
      "cell_type": "markdown",
      "metadata": {
        "id": "n2BHNEGel3Id"
      },
      "source": [
        "**Down load Kaggle API token and upload in colab**\n",
        "<br> Kaggle API will be available in setting -> Create API\n",
        "<br>Below code line has been added and not present in the reference like, to clean the older API\n",
        "<br>**!rm -rf /root/.kaggle.**"
      ]
    },
    {
      "cell_type": "code",
      "execution_count": 3,
      "metadata": {
        "id": "tsWWjkV9l11_"
      },
      "outputs": [],
      "source": [
        "# copy kaggle.json to /root/.kaggle/ folder so that kaggle cli can access it.\n",
        "!rm -rf /root/.kaggle.\n",
        "!mkdir /.kaggle\n",
        "!mv kaggle.json /.kaggle\n",
        "!mv /.kaggle /root/\n",
        "!chmod 600 ~/.kaggle/kaggle.json"
      ]
    },
    {
      "cell_type": "code",
      "execution_count": 4,
      "metadata": {
        "colab": {
          "base_uri": "https://localhost:8080/"
        },
        "id": "hc0EpIzEmAde",
        "outputId": "6bb211ac-26ff-4b2d-f6df-460f96abf198"
      },
      "outputs": [
        {
          "output_type": "stream",
          "name": "stdout",
          "text": [
            "Downloading red-wine-quality-cortez-et-al-2009.zip to /content\n",
            "\r  0% 0.00/25.6k [00:00<?, ?B/s]\n",
            "\r100% 25.6k/25.6k [00:00<00:00, 65.9MB/s]\n"
          ]
        }
      ],
      "source": [
        "# Get this api call from kaggle's download dataset\n",
        "!kaggle datasets download -d uciml/red-wine-quality-cortez-et-al-2009"
      ]
    },
    {
      "cell_type": "code",
      "execution_count": 5,
      "metadata": {
        "colab": {
          "base_uri": "https://localhost:8080/"
        },
        "id": "Pofo_op-me7U",
        "outputId": "b7b28b3f-bceb-4729-e8e6-181cc03e762a"
      },
      "outputs": [
        {
          "output_type": "stream",
          "name": "stdout",
          "text": [
            "Archive:  red-wine-quality-cortez-et-al-2009.zip\n",
            "  inflating: winequality-red.csv     \n"
          ]
        }
      ],
      "source": [
        "!unzip red-wine-quality-cortez-et-al-2009.zip"
      ]
    },
    {
      "cell_type": "code",
      "execution_count": 6,
      "metadata": {
        "id": "G_ddl9oAoVk0"
      },
      "outputs": [],
      "source": [
        "wine = pd.read_csv('/content/winequality-red.csv')"
      ]
    },
    {
      "cell_type": "markdown",
      "metadata": {
        "id": "HxZ8Pl5ZpAWA"
      },
      "source": [
        "## **3. Input Data Viewing**"
      ]
    },
    {
      "cell_type": "code",
      "execution_count": 7,
      "metadata": {
        "colab": {
          "base_uri": "https://localhost:8080/",
          "height": 166
        },
        "id": "7UhDk9GDj4-e",
        "outputId": "99a74c32-31ce-4138-af9f-40d1c9776918"
      },
      "outputs": [
        {
          "output_type": "execute_result",
          "data": {
            "text/plain": [
              "   fixed acidity  volatile acidity  citric acid  residual sugar  chlorides  \\\n",
              "0            7.4              0.70          0.0             1.9      0.076   \n",
              "1            7.8              0.88          0.0             2.6      0.098   \n",
              "\n",
              "   free sulfur dioxide  total sulfur dioxide  density    pH  sulphates  \\\n",
              "0                 11.0                  34.0   0.9978  3.51       0.56   \n",
              "1                 25.0                  67.0   0.9968  3.20       0.68   \n",
              "\n",
              "   alcohol  quality  \n",
              "0      9.4        5  \n",
              "1      9.8        5  "
            ],
            "text/html": [
              "\n",
              "  <div id=\"df-882623c4-d45e-45aa-bdb5-b7a5299be95a\" class=\"colab-df-container\">\n",
              "    <div>\n",
              "<style scoped>\n",
              "    .dataframe tbody tr th:only-of-type {\n",
              "        vertical-align: middle;\n",
              "    }\n",
              "\n",
              "    .dataframe tbody tr th {\n",
              "        vertical-align: top;\n",
              "    }\n",
              "\n",
              "    .dataframe thead th {\n",
              "        text-align: right;\n",
              "    }\n",
              "</style>\n",
              "<table border=\"1\" class=\"dataframe\">\n",
              "  <thead>\n",
              "    <tr style=\"text-align: right;\">\n",
              "      <th></th>\n",
              "      <th>fixed acidity</th>\n",
              "      <th>volatile acidity</th>\n",
              "      <th>citric acid</th>\n",
              "      <th>residual sugar</th>\n",
              "      <th>chlorides</th>\n",
              "      <th>free sulfur dioxide</th>\n",
              "      <th>total sulfur dioxide</th>\n",
              "      <th>density</th>\n",
              "      <th>pH</th>\n",
              "      <th>sulphates</th>\n",
              "      <th>alcohol</th>\n",
              "      <th>quality</th>\n",
              "    </tr>\n",
              "  </thead>\n",
              "  <tbody>\n",
              "    <tr>\n",
              "      <th>0</th>\n",
              "      <td>7.4</td>\n",
              "      <td>0.70</td>\n",
              "      <td>0.0</td>\n",
              "      <td>1.9</td>\n",
              "      <td>0.076</td>\n",
              "      <td>11.0</td>\n",
              "      <td>34.0</td>\n",
              "      <td>0.9978</td>\n",
              "      <td>3.51</td>\n",
              "      <td>0.56</td>\n",
              "      <td>9.4</td>\n",
              "      <td>5</td>\n",
              "    </tr>\n",
              "    <tr>\n",
              "      <th>1</th>\n",
              "      <td>7.8</td>\n",
              "      <td>0.88</td>\n",
              "      <td>0.0</td>\n",
              "      <td>2.6</td>\n",
              "      <td>0.098</td>\n",
              "      <td>25.0</td>\n",
              "      <td>67.0</td>\n",
              "      <td>0.9968</td>\n",
              "      <td>3.20</td>\n",
              "      <td>0.68</td>\n",
              "      <td>9.8</td>\n",
              "      <td>5</td>\n",
              "    </tr>\n",
              "  </tbody>\n",
              "</table>\n",
              "</div>\n",
              "    <div class=\"colab-df-buttons\">\n",
              "\n",
              "  <div class=\"colab-df-container\">\n",
              "    <button class=\"colab-df-convert\" onclick=\"convertToInteractive('df-882623c4-d45e-45aa-bdb5-b7a5299be95a')\"\n",
              "            title=\"Convert this dataframe to an interactive table.\"\n",
              "            style=\"display:none;\">\n",
              "\n",
              "  <svg xmlns=\"http://www.w3.org/2000/svg\" height=\"24px\" viewBox=\"0 -960 960 960\">\n",
              "    <path d=\"M120-120v-720h720v720H120Zm60-500h600v-160H180v160Zm220 220h160v-160H400v160Zm0 220h160v-160H400v160ZM180-400h160v-160H180v160Zm440 0h160v-160H620v160ZM180-180h160v-160H180v160Zm440 0h160v-160H620v160Z\"/>\n",
              "  </svg>\n",
              "    </button>\n",
              "\n",
              "  <style>\n",
              "    .colab-df-container {\n",
              "      display:flex;\n",
              "      gap: 12px;\n",
              "    }\n",
              "\n",
              "    .colab-df-convert {\n",
              "      background-color: #E8F0FE;\n",
              "      border: none;\n",
              "      border-radius: 50%;\n",
              "      cursor: pointer;\n",
              "      display: none;\n",
              "      fill: #1967D2;\n",
              "      height: 32px;\n",
              "      padding: 0 0 0 0;\n",
              "      width: 32px;\n",
              "    }\n",
              "\n",
              "    .colab-df-convert:hover {\n",
              "      background-color: #E2EBFA;\n",
              "      box-shadow: 0px 1px 2px rgba(60, 64, 67, 0.3), 0px 1px 3px 1px rgba(60, 64, 67, 0.15);\n",
              "      fill: #174EA6;\n",
              "    }\n",
              "\n",
              "    .colab-df-buttons div {\n",
              "      margin-bottom: 4px;\n",
              "    }\n",
              "\n",
              "    [theme=dark] .colab-df-convert {\n",
              "      background-color: #3B4455;\n",
              "      fill: #D2E3FC;\n",
              "    }\n",
              "\n",
              "    [theme=dark] .colab-df-convert:hover {\n",
              "      background-color: #434B5C;\n",
              "      box-shadow: 0px 1px 3px 1px rgba(0, 0, 0, 0.15);\n",
              "      filter: drop-shadow(0px 1px 2px rgba(0, 0, 0, 0.3));\n",
              "      fill: #FFFFFF;\n",
              "    }\n",
              "  </style>\n",
              "\n",
              "    <script>\n",
              "      const buttonEl =\n",
              "        document.querySelector('#df-882623c4-d45e-45aa-bdb5-b7a5299be95a button.colab-df-convert');\n",
              "      buttonEl.style.display =\n",
              "        google.colab.kernel.accessAllowed ? 'block' : 'none';\n",
              "\n",
              "      async function convertToInteractive(key) {\n",
              "        const element = document.querySelector('#df-882623c4-d45e-45aa-bdb5-b7a5299be95a');\n",
              "        const dataTable =\n",
              "          await google.colab.kernel.invokeFunction('convertToInteractive',\n",
              "                                                    [key], {});\n",
              "        if (!dataTable) return;\n",
              "\n",
              "        const docLinkHtml = 'Like what you see? Visit the ' +\n",
              "          '<a target=\"_blank\" href=https://colab.research.google.com/notebooks/data_table.ipynb>data table notebook</a>'\n",
              "          + ' to learn more about interactive tables.';\n",
              "        element.innerHTML = '';\n",
              "        dataTable['output_type'] = 'display_data';\n",
              "        await google.colab.output.renderOutput(dataTable, element);\n",
              "        const docLink = document.createElement('div');\n",
              "        docLink.innerHTML = docLinkHtml;\n",
              "        element.appendChild(docLink);\n",
              "      }\n",
              "    </script>\n",
              "  </div>\n",
              "\n",
              "\n",
              "<div id=\"df-d5629f8e-9dc9-4e7c-98d2-0b20dee45e72\">\n",
              "  <button class=\"colab-df-quickchart\" onclick=\"quickchart('df-d5629f8e-9dc9-4e7c-98d2-0b20dee45e72')\"\n",
              "            title=\"Suggest charts\"\n",
              "            style=\"display:none;\">\n",
              "\n",
              "<svg xmlns=\"http://www.w3.org/2000/svg\" height=\"24px\"viewBox=\"0 0 24 24\"\n",
              "     width=\"24px\">\n",
              "    <g>\n",
              "        <path d=\"M19 3H5c-1.1 0-2 .9-2 2v14c0 1.1.9 2 2 2h14c1.1 0 2-.9 2-2V5c0-1.1-.9-2-2-2zM9 17H7v-7h2v7zm4 0h-2V7h2v10zm4 0h-2v-4h2v4z\"/>\n",
              "    </g>\n",
              "</svg>\n",
              "  </button>\n",
              "\n",
              "<style>\n",
              "  .colab-df-quickchart {\n",
              "      --bg-color: #E8F0FE;\n",
              "      --fill-color: #1967D2;\n",
              "      --hover-bg-color: #E2EBFA;\n",
              "      --hover-fill-color: #174EA6;\n",
              "      --disabled-fill-color: #AAA;\n",
              "      --disabled-bg-color: #DDD;\n",
              "  }\n",
              "\n",
              "  [theme=dark] .colab-df-quickchart {\n",
              "      --bg-color: #3B4455;\n",
              "      --fill-color: #D2E3FC;\n",
              "      --hover-bg-color: #434B5C;\n",
              "      --hover-fill-color: #FFFFFF;\n",
              "      --disabled-bg-color: #3B4455;\n",
              "      --disabled-fill-color: #666;\n",
              "  }\n",
              "\n",
              "  .colab-df-quickchart {\n",
              "    background-color: var(--bg-color);\n",
              "    border: none;\n",
              "    border-radius: 50%;\n",
              "    cursor: pointer;\n",
              "    display: none;\n",
              "    fill: var(--fill-color);\n",
              "    height: 32px;\n",
              "    padding: 0;\n",
              "    width: 32px;\n",
              "  }\n",
              "\n",
              "  .colab-df-quickchart:hover {\n",
              "    background-color: var(--hover-bg-color);\n",
              "    box-shadow: 0 1px 2px rgba(60, 64, 67, 0.3), 0 1px 3px 1px rgba(60, 64, 67, 0.15);\n",
              "    fill: var(--button-hover-fill-color);\n",
              "  }\n",
              "\n",
              "  .colab-df-quickchart-complete:disabled,\n",
              "  .colab-df-quickchart-complete:disabled:hover {\n",
              "    background-color: var(--disabled-bg-color);\n",
              "    fill: var(--disabled-fill-color);\n",
              "    box-shadow: none;\n",
              "  }\n",
              "\n",
              "  .colab-df-spinner {\n",
              "    border: 2px solid var(--fill-color);\n",
              "    border-color: transparent;\n",
              "    border-bottom-color: var(--fill-color);\n",
              "    animation:\n",
              "      spin 1s steps(1) infinite;\n",
              "  }\n",
              "\n",
              "  @keyframes spin {\n",
              "    0% {\n",
              "      border-color: transparent;\n",
              "      border-bottom-color: var(--fill-color);\n",
              "      border-left-color: var(--fill-color);\n",
              "    }\n",
              "    20% {\n",
              "      border-color: transparent;\n",
              "      border-left-color: var(--fill-color);\n",
              "      border-top-color: var(--fill-color);\n",
              "    }\n",
              "    30% {\n",
              "      border-color: transparent;\n",
              "      border-left-color: var(--fill-color);\n",
              "      border-top-color: var(--fill-color);\n",
              "      border-right-color: var(--fill-color);\n",
              "    }\n",
              "    40% {\n",
              "      border-color: transparent;\n",
              "      border-right-color: var(--fill-color);\n",
              "      border-top-color: var(--fill-color);\n",
              "    }\n",
              "    60% {\n",
              "      border-color: transparent;\n",
              "      border-right-color: var(--fill-color);\n",
              "    }\n",
              "    80% {\n",
              "      border-color: transparent;\n",
              "      border-right-color: var(--fill-color);\n",
              "      border-bottom-color: var(--fill-color);\n",
              "    }\n",
              "    90% {\n",
              "      border-color: transparent;\n",
              "      border-bottom-color: var(--fill-color);\n",
              "    }\n",
              "  }\n",
              "</style>\n",
              "\n",
              "  <script>\n",
              "    async function quickchart(key) {\n",
              "      const quickchartButtonEl =\n",
              "        document.querySelector('#' + key + ' button');\n",
              "      quickchartButtonEl.disabled = true;  // To prevent multiple clicks.\n",
              "      quickchartButtonEl.classList.add('colab-df-spinner');\n",
              "      try {\n",
              "        const charts = await google.colab.kernel.invokeFunction(\n",
              "            'suggestCharts', [key], {});\n",
              "      } catch (error) {\n",
              "        console.error('Error during call to suggestCharts:', error);\n",
              "      }\n",
              "      quickchartButtonEl.classList.remove('colab-df-spinner');\n",
              "      quickchartButtonEl.classList.add('colab-df-quickchart-complete');\n",
              "    }\n",
              "    (() => {\n",
              "      let quickchartButtonEl =\n",
              "        document.querySelector('#df-d5629f8e-9dc9-4e7c-98d2-0b20dee45e72 button');\n",
              "      quickchartButtonEl.style.display =\n",
              "        google.colab.kernel.accessAllowed ? 'block' : 'none';\n",
              "    })();\n",
              "  </script>\n",
              "</div>\n",
              "    </div>\n",
              "  </div>\n"
            ],
            "application/vnd.google.colaboratory.intrinsic+json": {
              "type": "dataframe",
              "variable_name": "wine",
              "summary": "{\n  \"name\": \"wine\",\n  \"rows\": 1599,\n  \"fields\": [\n    {\n      \"column\": \"fixed acidity\",\n      \"properties\": {\n        \"dtype\": \"number\",\n        \"std\": 1.7410963181276953,\n        \"min\": 4.6,\n        \"max\": 15.9,\n        \"num_unique_values\": 96,\n        \"samples\": [\n          5.3,\n          12.7,\n          12.6\n        ],\n        \"semantic_type\": \"\",\n        \"description\": \"\"\n      }\n    },\n    {\n      \"column\": \"volatile acidity\",\n      \"properties\": {\n        \"dtype\": \"number\",\n        \"std\": 0.17905970415353537,\n        \"min\": 0.12,\n        \"max\": 1.58,\n        \"num_unique_values\": 143,\n        \"samples\": [\n          1.025,\n          0.4,\n          0.87\n        ],\n        \"semantic_type\": \"\",\n        \"description\": \"\"\n      }\n    },\n    {\n      \"column\": \"citric acid\",\n      \"properties\": {\n        \"dtype\": \"number\",\n        \"std\": 0.19480113740531857,\n        \"min\": 0.0,\n        \"max\": 1.0,\n        \"num_unique_values\": 80,\n        \"samples\": [\n          0.37,\n          0.0,\n          0.09\n        ],\n        \"semantic_type\": \"\",\n        \"description\": \"\"\n      }\n    },\n    {\n      \"column\": \"residual sugar\",\n      \"properties\": {\n        \"dtype\": \"number\",\n        \"std\": 1.4099280595072798,\n        \"min\": 0.9,\n        \"max\": 15.5,\n        \"num_unique_values\": 91,\n        \"samples\": [\n          11.0,\n          3.0,\n          15.5\n        ],\n        \"semantic_type\": \"\",\n        \"description\": \"\"\n      }\n    },\n    {\n      \"column\": \"chlorides\",\n      \"properties\": {\n        \"dtype\": \"number\",\n        \"std\": 0.0470653020100901,\n        \"min\": 0.012,\n        \"max\": 0.611,\n        \"num_unique_values\": 153,\n        \"samples\": [\n          0.096,\n          0.3429999999999999,\n          0.159\n        ],\n        \"semantic_type\": \"\",\n        \"description\": \"\"\n      }\n    },\n    {\n      \"column\": \"free sulfur dioxide\",\n      \"properties\": {\n        \"dtype\": \"number\",\n        \"std\": 10.460156969809725,\n        \"min\": 1.0,\n        \"max\": 72.0,\n        \"num_unique_values\": 60,\n        \"samples\": [\n          11.0,\n          9.0,\n          32.0\n        ],\n        \"semantic_type\": \"\",\n        \"description\": \"\"\n      }\n    },\n    {\n      \"column\": \"total sulfur dioxide\",\n      \"properties\": {\n        \"dtype\": \"number\",\n        \"std\": 32.895324478299074,\n        \"min\": 6.0,\n        \"max\": 289.0,\n        \"num_unique_values\": 144,\n        \"samples\": [\n          68.0,\n          35.0,\n          101.0\n        ],\n        \"semantic_type\": \"\",\n        \"description\": \"\"\n      }\n    },\n    {\n      \"column\": \"density\",\n      \"properties\": {\n        \"dtype\": \"number\",\n        \"std\": 0.0018873339538425554,\n        \"min\": 0.99007,\n        \"max\": 1.00369,\n        \"num_unique_values\": 436,\n        \"samples\": [\n          0.99974,\n          1.0001,\n          0.99471\n        ],\n        \"semantic_type\": \"\",\n        \"description\": \"\"\n      }\n    },\n    {\n      \"column\": \"pH\",\n      \"properties\": {\n        \"dtype\": \"number\",\n        \"std\": 0.15438646490354277,\n        \"min\": 2.74,\n        \"max\": 4.01,\n        \"num_unique_values\": 89,\n        \"samples\": [\n          3.07,\n          3.0,\n          3.15\n        ],\n        \"semantic_type\": \"\",\n        \"description\": \"\"\n      }\n    },\n    {\n      \"column\": \"sulphates\",\n      \"properties\": {\n        \"dtype\": \"number\",\n        \"std\": 0.16950697959010996,\n        \"min\": 0.33,\n        \"max\": 2.0,\n        \"num_unique_values\": 96,\n        \"samples\": [\n          1.07,\n          1.04,\n          1.18\n        ],\n        \"semantic_type\": \"\",\n        \"description\": \"\"\n      }\n    },\n    {\n      \"column\": \"alcohol\",\n      \"properties\": {\n        \"dtype\": \"number\",\n        \"std\": 1.0656675818473946,\n        \"min\": 8.4,\n        \"max\": 14.9,\n        \"num_unique_values\": 65,\n        \"samples\": [\n          8.5,\n          9.95,\n          9.4\n        ],\n        \"semantic_type\": \"\",\n        \"description\": \"\"\n      }\n    },\n    {\n      \"column\": \"quality\",\n      \"properties\": {\n        \"dtype\": \"number\",\n        \"std\": 0,\n        \"min\": 3,\n        \"max\": 8,\n        \"num_unique_values\": 6,\n        \"samples\": [\n          5,\n          6,\n          3\n        ],\n        \"semantic_type\": \"\",\n        \"description\": \"\"\n      }\n    }\n  ]\n}"
            }
          },
          "metadata": {},
          "execution_count": 7
        }
      ],
      "source": [
        "wine.head(2)"
      ]
    },
    {
      "cell_type": "code",
      "execution_count": 8,
      "metadata": {
        "colab": {
          "base_uri": "https://localhost:8080/"
        },
        "id": "I3V1rdPBkQop",
        "outputId": "ac910199-cb61-4a7d-89b3-da1cf963cab7"
      },
      "outputs": [
        {
          "output_type": "stream",
          "name": "stdout",
          "text": [
            "<class 'pandas.core.frame.DataFrame'>\n",
            "RangeIndex: 1599 entries, 0 to 1598\n",
            "Data columns (total 12 columns):\n",
            " #   Column                Non-Null Count  Dtype  \n",
            "---  ------                --------------  -----  \n",
            " 0   fixed acidity         1599 non-null   float64\n",
            " 1   volatile acidity      1599 non-null   float64\n",
            " 2   citric acid           1599 non-null   float64\n",
            " 3   residual sugar        1599 non-null   float64\n",
            " 4   chlorides             1599 non-null   float64\n",
            " 5   free sulfur dioxide   1599 non-null   float64\n",
            " 6   total sulfur dioxide  1599 non-null   float64\n",
            " 7   density               1599 non-null   float64\n",
            " 8   pH                    1599 non-null   float64\n",
            " 9   sulphates             1599 non-null   float64\n",
            " 10  alcohol               1599 non-null   float64\n",
            " 11  quality               1599 non-null   int64  \n",
            "dtypes: float64(11), int64(1)\n",
            "memory usage: 150.0 KB\n"
          ]
        }
      ],
      "source": [
        "wine.info()"
      ]
    },
    {
      "cell_type": "markdown",
      "metadata": {
        "id": "gFXDRbtNpjMH"
      },
      "source": [
        "## **4. Metholodgy**\n",
        "Following steps to complete the wine data prediction project:\n",
        "<br>1. Data Cleaning: [click](https://www.obviously.ai/post/data-cleaning-in-machine-learning)\n",
        "<br>2. Exploratory Analysis (EDA): [click](https://www.analyticsvidhya.com/blog/2022/07/step-by-step-exploratory-data-analysis-eda-using-python/)\n",
        "<br>3. Feature Selection: [click](https://www.analyticsvidhya.com/blog/2020/10/feature-selection-techniques-in-machine-learning/)\n",
        "<br>4. Focuing on classification machine learning algorigthm such as\n",
        "<br>&nbsp;&nbsp;&nbsp;&nbsp;4.1. Random Forest Classification\n",
        "<br>&nbsp;&nbsp;&nbsp;&nbsp;4.2. Stochastic Gradient Descent Classifier\n",
        "<br>&nbsp;&nbsp;&nbsp;&nbsp;4.3. Support Vector Machine (SVM)\n",
        "<br>5. Data Standarization and reiterating step 4\n",
        "<br>6. Model Optimization\n",
        "<br>7. Model Evaluation\n",
        "<br>8. Conculsion"
      ]
    },
    {
      "cell_type": "markdown",
      "metadata": {
        "id": "b7cdYFC8rhkp"
      },
      "source": [
        "### **4.1. Data Cleaning**\n",
        "**Quesion**: Why Data Cleaning important?\n",
        "<br>Preparing data such as organizing, formatting data ensures data quality which in returns making more accurate analytics, increasing effective, intelligent decision making"
      ]
    },
    {
      "cell_type": "markdown",
      "metadata": {
        "id": "HJrwFnYAsaid"
      },
      "source": [
        "#### **4.1.1. Duplication Check**\n",
        "This process involve identifying duplicated records, making sure these data sets won't affects our model.\n",
        "<br>There are ways to handle this, but we will be follow below:\n",
        "<br>1. **Deleting Duplicated Records**"
      ]
    },
    {
      "cell_type": "code",
      "execution_count": 9,
      "metadata": {
        "colab": {
          "base_uri": "https://localhost:8080/"
        },
        "id": "JFqcXyWvpS0y",
        "outputId": "886909d0-c42d-4434-d2d3-d06828918e24"
      },
      "outputs": [
        {
          "output_type": "stream",
          "name": "stdout",
          "text": [
            "Total number of records 1599\n",
            "Total number of duplicated records 240\n"
          ]
        }
      ],
      "source": [
        "# Deleting Duplicated Records\n",
        "\n",
        "# printing total number of records with the following ways\n",
        "# shape fuction returns tuple count of (rows, columns)\n",
        "print('Total number of records', wine.shape[0])\n",
        "# or\n",
        "# len function also provide the total number of records in an object\n",
        "len(wine)\n",
        "\n",
        "# Python duplicated function returns the records with duplicated values\n",
        "print('Total number of duplicated records', wine.duplicated().sum())\n",
        "\n",
        "#--------- Inferenece -----------------\n",
        "# As count of duplicated records stands 240 out of total number of records 1599\n",
        "# Contributing towards 15 percentatge , but we will drop these records as it might impact our models\n",
        "\n",
        "wine = wine.drop_duplicates(keep='first')\n"
      ]
    },
    {
      "cell_type": "markdown",
      "metadata": {
        "id": "nbU6HTubw3zU"
      },
      "source": [
        "#### **4.1.2. Filter Outliers**\n",
        "**Outliers** are unexpected data values present in the data set.\n",
        "<br> while identifying them becomes important, but more importantly how and why to handle them becomes more critical.\n",
        "<br> Currently, we are using below techniques to handle identifier:\n",
        "<br>**1. Min-Max Approach**"
      ]
    },
    {
      "cell_type": "markdown",
      "source": [
        "##### **Box Plot and Min-Max Approach:**\n",
        "**Approach**: Min-Max approach majorly compares mean and median value using describe in-built function. Since mean and median are central tendency, hence in a way we are performing **Descriptive Statistical Analysis** to highlight column with potential outliers"
      ],
      "metadata": {
        "id": "mx-xoVMt6ghs"
      }
    },
    {
      "cell_type": "markdown",
      "source": [
        "##### **STEP 001**: **Identifying Outliers**"
      ],
      "metadata": {
        "id": "_J1Fm2176vVt"
      }
    },
    {
      "cell_type": "code",
      "execution_count": 10,
      "metadata": {
        "colab": {
          "base_uri": "https://localhost:8080/"
        },
        "id": "hjjadzuIzD-Z",
        "outputId": "9157edbd-a9e3-4781-f701-f00f6da81964"
      },
      "outputs": [
        {
          "output_type": "stream",
          "name": "stdout",
          "text": [
            "fixed acidity             4.6        15.9 \n",
            "volatile acidity          0.12       1.58 \n",
            "citric acid               0.0        1.0  \n",
            "residual sugar            0.9        15.5 \n",
            "chlorides                 0.012      0.611\n",
            "free sulfur dioxide       1.0        72.0 \n",
            "total sulfur dioxide      6.0        289.0\n",
            "density                   0.99007    1.00369\n",
            "pH                        2.74       4.01 \n",
            "sulphates                 0.33       2.0  \n",
            "alcohol                   8.4        14.9 \n",
            "quality                   3.0        8.0  \n"
          ]
        }
      ],
      "source": [
        "# This is just to print min, max and index of the data set\n",
        "for index, col_min, col_max in zip(wine.min().index, wine.min() , wine.max()):\n",
        "  # Below will help to left-aligned within a field width of 25 characters\n",
        "  # Similarly, centre and right will follow ^ and > symbol respectively\n",
        "  print(f'{index:<25} {col_min:<10} {col_max:<5}')\n"
      ]
    },
    {
      "cell_type": "code",
      "source": [
        "# Using describe function to get min, max, quartile data set to apply Min-Max Approach filltering outliers\n",
        "wine.describe(include='all').T #T - tranpose of data"
      ],
      "metadata": {
        "colab": {
          "base_uri": "https://localhost:8080/",
          "height": 425
        },
        "id": "daArzY8h3WGm",
        "outputId": "1fddab83-e8ad-4730-89d3-9156f68062b9"
      },
      "execution_count": 11,
      "outputs": [
        {
          "output_type": "execute_result",
          "data": {
            "text/plain": [
              "                       count       mean        std      min      25%      50%  \\\n",
              "fixed acidity         1359.0   8.310596   1.736990  4.60000   7.1000   7.9000   \n",
              "volatile acidity      1359.0   0.529478   0.183031  0.12000   0.3900   0.5200   \n",
              "citric acid           1359.0   0.272333   0.195537  0.00000   0.0900   0.2600   \n",
              "residual sugar        1359.0   2.523400   1.352314  0.90000   1.9000   2.2000   \n",
              "chlorides             1359.0   0.088124   0.049377  0.01200   0.0700   0.0790   \n",
              "free sulfur dioxide   1359.0  15.893304  10.447270  1.00000   7.0000  14.0000   \n",
              "total sulfur dioxide  1359.0  46.825975  33.408946  6.00000  22.0000  38.0000   \n",
              "density               1359.0   0.996709   0.001869  0.99007   0.9956   0.9967   \n",
              "pH                    1359.0   3.309787   0.155036  2.74000   3.2100   3.3100   \n",
              "sulphates             1359.0   0.658705   0.170667  0.33000   0.5500   0.6200   \n",
              "alcohol               1359.0  10.432315   1.082065  8.40000   9.5000  10.2000   \n",
              "quality               1359.0   5.623252   0.823578  3.00000   5.0000   6.0000   \n",
              "\n",
              "                           75%        max  \n",
              "fixed acidity          9.20000   15.90000  \n",
              "volatile acidity       0.64000    1.58000  \n",
              "citric acid            0.43000    1.00000  \n",
              "residual sugar         2.60000   15.50000  \n",
              "chlorides              0.09100    0.61100  \n",
              "free sulfur dioxide   21.00000   72.00000  \n",
              "total sulfur dioxide  63.00000  289.00000  \n",
              "density                0.99782    1.00369  \n",
              "pH                     3.40000    4.01000  \n",
              "sulphates              0.73000    2.00000  \n",
              "alcohol               11.10000   14.90000  \n",
              "quality                6.00000    8.00000  "
            ],
            "text/html": [
              "\n",
              "  <div id=\"df-4e1812a0-5550-4019-b01e-9d016520e9fe\" class=\"colab-df-container\">\n",
              "    <div>\n",
              "<style scoped>\n",
              "    .dataframe tbody tr th:only-of-type {\n",
              "        vertical-align: middle;\n",
              "    }\n",
              "\n",
              "    .dataframe tbody tr th {\n",
              "        vertical-align: top;\n",
              "    }\n",
              "\n",
              "    .dataframe thead th {\n",
              "        text-align: right;\n",
              "    }\n",
              "</style>\n",
              "<table border=\"1\" class=\"dataframe\">\n",
              "  <thead>\n",
              "    <tr style=\"text-align: right;\">\n",
              "      <th></th>\n",
              "      <th>count</th>\n",
              "      <th>mean</th>\n",
              "      <th>std</th>\n",
              "      <th>min</th>\n",
              "      <th>25%</th>\n",
              "      <th>50%</th>\n",
              "      <th>75%</th>\n",
              "      <th>max</th>\n",
              "    </tr>\n",
              "  </thead>\n",
              "  <tbody>\n",
              "    <tr>\n",
              "      <th>fixed acidity</th>\n",
              "      <td>1359.0</td>\n",
              "      <td>8.310596</td>\n",
              "      <td>1.736990</td>\n",
              "      <td>4.60000</td>\n",
              "      <td>7.1000</td>\n",
              "      <td>7.9000</td>\n",
              "      <td>9.20000</td>\n",
              "      <td>15.90000</td>\n",
              "    </tr>\n",
              "    <tr>\n",
              "      <th>volatile acidity</th>\n",
              "      <td>1359.0</td>\n",
              "      <td>0.529478</td>\n",
              "      <td>0.183031</td>\n",
              "      <td>0.12000</td>\n",
              "      <td>0.3900</td>\n",
              "      <td>0.5200</td>\n",
              "      <td>0.64000</td>\n",
              "      <td>1.58000</td>\n",
              "    </tr>\n",
              "    <tr>\n",
              "      <th>citric acid</th>\n",
              "      <td>1359.0</td>\n",
              "      <td>0.272333</td>\n",
              "      <td>0.195537</td>\n",
              "      <td>0.00000</td>\n",
              "      <td>0.0900</td>\n",
              "      <td>0.2600</td>\n",
              "      <td>0.43000</td>\n",
              "      <td>1.00000</td>\n",
              "    </tr>\n",
              "    <tr>\n",
              "      <th>residual sugar</th>\n",
              "      <td>1359.0</td>\n",
              "      <td>2.523400</td>\n",
              "      <td>1.352314</td>\n",
              "      <td>0.90000</td>\n",
              "      <td>1.9000</td>\n",
              "      <td>2.2000</td>\n",
              "      <td>2.60000</td>\n",
              "      <td>15.50000</td>\n",
              "    </tr>\n",
              "    <tr>\n",
              "      <th>chlorides</th>\n",
              "      <td>1359.0</td>\n",
              "      <td>0.088124</td>\n",
              "      <td>0.049377</td>\n",
              "      <td>0.01200</td>\n",
              "      <td>0.0700</td>\n",
              "      <td>0.0790</td>\n",
              "      <td>0.09100</td>\n",
              "      <td>0.61100</td>\n",
              "    </tr>\n",
              "    <tr>\n",
              "      <th>free sulfur dioxide</th>\n",
              "      <td>1359.0</td>\n",
              "      <td>15.893304</td>\n",
              "      <td>10.447270</td>\n",
              "      <td>1.00000</td>\n",
              "      <td>7.0000</td>\n",
              "      <td>14.0000</td>\n",
              "      <td>21.00000</td>\n",
              "      <td>72.00000</td>\n",
              "    </tr>\n",
              "    <tr>\n",
              "      <th>total sulfur dioxide</th>\n",
              "      <td>1359.0</td>\n",
              "      <td>46.825975</td>\n",
              "      <td>33.408946</td>\n",
              "      <td>6.00000</td>\n",
              "      <td>22.0000</td>\n",
              "      <td>38.0000</td>\n",
              "      <td>63.00000</td>\n",
              "      <td>289.00000</td>\n",
              "    </tr>\n",
              "    <tr>\n",
              "      <th>density</th>\n",
              "      <td>1359.0</td>\n",
              "      <td>0.996709</td>\n",
              "      <td>0.001869</td>\n",
              "      <td>0.99007</td>\n",
              "      <td>0.9956</td>\n",
              "      <td>0.9967</td>\n",
              "      <td>0.99782</td>\n",
              "      <td>1.00369</td>\n",
              "    </tr>\n",
              "    <tr>\n",
              "      <th>pH</th>\n",
              "      <td>1359.0</td>\n",
              "      <td>3.309787</td>\n",
              "      <td>0.155036</td>\n",
              "      <td>2.74000</td>\n",
              "      <td>3.2100</td>\n",
              "      <td>3.3100</td>\n",
              "      <td>3.40000</td>\n",
              "      <td>4.01000</td>\n",
              "    </tr>\n",
              "    <tr>\n",
              "      <th>sulphates</th>\n",
              "      <td>1359.0</td>\n",
              "      <td>0.658705</td>\n",
              "      <td>0.170667</td>\n",
              "      <td>0.33000</td>\n",
              "      <td>0.5500</td>\n",
              "      <td>0.6200</td>\n",
              "      <td>0.73000</td>\n",
              "      <td>2.00000</td>\n",
              "    </tr>\n",
              "    <tr>\n",
              "      <th>alcohol</th>\n",
              "      <td>1359.0</td>\n",
              "      <td>10.432315</td>\n",
              "      <td>1.082065</td>\n",
              "      <td>8.40000</td>\n",
              "      <td>9.5000</td>\n",
              "      <td>10.2000</td>\n",
              "      <td>11.10000</td>\n",
              "      <td>14.90000</td>\n",
              "    </tr>\n",
              "    <tr>\n",
              "      <th>quality</th>\n",
              "      <td>1359.0</td>\n",
              "      <td>5.623252</td>\n",
              "      <td>0.823578</td>\n",
              "      <td>3.00000</td>\n",
              "      <td>5.0000</td>\n",
              "      <td>6.0000</td>\n",
              "      <td>6.00000</td>\n",
              "      <td>8.00000</td>\n",
              "    </tr>\n",
              "  </tbody>\n",
              "</table>\n",
              "</div>\n",
              "    <div class=\"colab-df-buttons\">\n",
              "\n",
              "  <div class=\"colab-df-container\">\n",
              "    <button class=\"colab-df-convert\" onclick=\"convertToInteractive('df-4e1812a0-5550-4019-b01e-9d016520e9fe')\"\n",
              "            title=\"Convert this dataframe to an interactive table.\"\n",
              "            style=\"display:none;\">\n",
              "\n",
              "  <svg xmlns=\"http://www.w3.org/2000/svg\" height=\"24px\" viewBox=\"0 -960 960 960\">\n",
              "    <path d=\"M120-120v-720h720v720H120Zm60-500h600v-160H180v160Zm220 220h160v-160H400v160Zm0 220h160v-160H400v160ZM180-400h160v-160H180v160Zm440 0h160v-160H620v160ZM180-180h160v-160H180v160Zm440 0h160v-160H620v160Z\"/>\n",
              "  </svg>\n",
              "    </button>\n",
              "\n",
              "  <style>\n",
              "    .colab-df-container {\n",
              "      display:flex;\n",
              "      gap: 12px;\n",
              "    }\n",
              "\n",
              "    .colab-df-convert {\n",
              "      background-color: #E8F0FE;\n",
              "      border: none;\n",
              "      border-radius: 50%;\n",
              "      cursor: pointer;\n",
              "      display: none;\n",
              "      fill: #1967D2;\n",
              "      height: 32px;\n",
              "      padding: 0 0 0 0;\n",
              "      width: 32px;\n",
              "    }\n",
              "\n",
              "    .colab-df-convert:hover {\n",
              "      background-color: #E2EBFA;\n",
              "      box-shadow: 0px 1px 2px rgba(60, 64, 67, 0.3), 0px 1px 3px 1px rgba(60, 64, 67, 0.15);\n",
              "      fill: #174EA6;\n",
              "    }\n",
              "\n",
              "    .colab-df-buttons div {\n",
              "      margin-bottom: 4px;\n",
              "    }\n",
              "\n",
              "    [theme=dark] .colab-df-convert {\n",
              "      background-color: #3B4455;\n",
              "      fill: #D2E3FC;\n",
              "    }\n",
              "\n",
              "    [theme=dark] .colab-df-convert:hover {\n",
              "      background-color: #434B5C;\n",
              "      box-shadow: 0px 1px 3px 1px rgba(0, 0, 0, 0.15);\n",
              "      filter: drop-shadow(0px 1px 2px rgba(0, 0, 0, 0.3));\n",
              "      fill: #FFFFFF;\n",
              "    }\n",
              "  </style>\n",
              "\n",
              "    <script>\n",
              "      const buttonEl =\n",
              "        document.querySelector('#df-4e1812a0-5550-4019-b01e-9d016520e9fe button.colab-df-convert');\n",
              "      buttonEl.style.display =\n",
              "        google.colab.kernel.accessAllowed ? 'block' : 'none';\n",
              "\n",
              "      async function convertToInteractive(key) {\n",
              "        const element = document.querySelector('#df-4e1812a0-5550-4019-b01e-9d016520e9fe');\n",
              "        const dataTable =\n",
              "          await google.colab.kernel.invokeFunction('convertToInteractive',\n",
              "                                                    [key], {});\n",
              "        if (!dataTable) return;\n",
              "\n",
              "        const docLinkHtml = 'Like what you see? Visit the ' +\n",
              "          '<a target=\"_blank\" href=https://colab.research.google.com/notebooks/data_table.ipynb>data table notebook</a>'\n",
              "          + ' to learn more about interactive tables.';\n",
              "        element.innerHTML = '';\n",
              "        dataTable['output_type'] = 'display_data';\n",
              "        await google.colab.output.renderOutput(dataTable, element);\n",
              "        const docLink = document.createElement('div');\n",
              "        docLink.innerHTML = docLinkHtml;\n",
              "        element.appendChild(docLink);\n",
              "      }\n",
              "    </script>\n",
              "  </div>\n",
              "\n",
              "\n",
              "<div id=\"df-aa1cf3c5-2fe2-4931-a53a-7b0db21b9233\">\n",
              "  <button class=\"colab-df-quickchart\" onclick=\"quickchart('df-aa1cf3c5-2fe2-4931-a53a-7b0db21b9233')\"\n",
              "            title=\"Suggest charts\"\n",
              "            style=\"display:none;\">\n",
              "\n",
              "<svg xmlns=\"http://www.w3.org/2000/svg\" height=\"24px\"viewBox=\"0 0 24 24\"\n",
              "     width=\"24px\">\n",
              "    <g>\n",
              "        <path d=\"M19 3H5c-1.1 0-2 .9-2 2v14c0 1.1.9 2 2 2h14c1.1 0 2-.9 2-2V5c0-1.1-.9-2-2-2zM9 17H7v-7h2v7zm4 0h-2V7h2v10zm4 0h-2v-4h2v4z\"/>\n",
              "    </g>\n",
              "</svg>\n",
              "  </button>\n",
              "\n",
              "<style>\n",
              "  .colab-df-quickchart {\n",
              "      --bg-color: #E8F0FE;\n",
              "      --fill-color: #1967D2;\n",
              "      --hover-bg-color: #E2EBFA;\n",
              "      --hover-fill-color: #174EA6;\n",
              "      --disabled-fill-color: #AAA;\n",
              "      --disabled-bg-color: #DDD;\n",
              "  }\n",
              "\n",
              "  [theme=dark] .colab-df-quickchart {\n",
              "      --bg-color: #3B4455;\n",
              "      --fill-color: #D2E3FC;\n",
              "      --hover-bg-color: #434B5C;\n",
              "      --hover-fill-color: #FFFFFF;\n",
              "      --disabled-bg-color: #3B4455;\n",
              "      --disabled-fill-color: #666;\n",
              "  }\n",
              "\n",
              "  .colab-df-quickchart {\n",
              "    background-color: var(--bg-color);\n",
              "    border: none;\n",
              "    border-radius: 50%;\n",
              "    cursor: pointer;\n",
              "    display: none;\n",
              "    fill: var(--fill-color);\n",
              "    height: 32px;\n",
              "    padding: 0;\n",
              "    width: 32px;\n",
              "  }\n",
              "\n",
              "  .colab-df-quickchart:hover {\n",
              "    background-color: var(--hover-bg-color);\n",
              "    box-shadow: 0 1px 2px rgba(60, 64, 67, 0.3), 0 1px 3px 1px rgba(60, 64, 67, 0.15);\n",
              "    fill: var(--button-hover-fill-color);\n",
              "  }\n",
              "\n",
              "  .colab-df-quickchart-complete:disabled,\n",
              "  .colab-df-quickchart-complete:disabled:hover {\n",
              "    background-color: var(--disabled-bg-color);\n",
              "    fill: var(--disabled-fill-color);\n",
              "    box-shadow: none;\n",
              "  }\n",
              "\n",
              "  .colab-df-spinner {\n",
              "    border: 2px solid var(--fill-color);\n",
              "    border-color: transparent;\n",
              "    border-bottom-color: var(--fill-color);\n",
              "    animation:\n",
              "      spin 1s steps(1) infinite;\n",
              "  }\n",
              "\n",
              "  @keyframes spin {\n",
              "    0% {\n",
              "      border-color: transparent;\n",
              "      border-bottom-color: var(--fill-color);\n",
              "      border-left-color: var(--fill-color);\n",
              "    }\n",
              "    20% {\n",
              "      border-color: transparent;\n",
              "      border-left-color: var(--fill-color);\n",
              "      border-top-color: var(--fill-color);\n",
              "    }\n",
              "    30% {\n",
              "      border-color: transparent;\n",
              "      border-left-color: var(--fill-color);\n",
              "      border-top-color: var(--fill-color);\n",
              "      border-right-color: var(--fill-color);\n",
              "    }\n",
              "    40% {\n",
              "      border-color: transparent;\n",
              "      border-right-color: var(--fill-color);\n",
              "      border-top-color: var(--fill-color);\n",
              "    }\n",
              "    60% {\n",
              "      border-color: transparent;\n",
              "      border-right-color: var(--fill-color);\n",
              "    }\n",
              "    80% {\n",
              "      border-color: transparent;\n",
              "      border-right-color: var(--fill-color);\n",
              "      border-bottom-color: var(--fill-color);\n",
              "    }\n",
              "    90% {\n",
              "      border-color: transparent;\n",
              "      border-bottom-color: var(--fill-color);\n",
              "    }\n",
              "  }\n",
              "</style>\n",
              "\n",
              "  <script>\n",
              "    async function quickchart(key) {\n",
              "      const quickchartButtonEl =\n",
              "        document.querySelector('#' + key + ' button');\n",
              "      quickchartButtonEl.disabled = true;  // To prevent multiple clicks.\n",
              "      quickchartButtonEl.classList.add('colab-df-spinner');\n",
              "      try {\n",
              "        const charts = await google.colab.kernel.invokeFunction(\n",
              "            'suggestCharts', [key], {});\n",
              "      } catch (error) {\n",
              "        console.error('Error during call to suggestCharts:', error);\n",
              "      }\n",
              "      quickchartButtonEl.classList.remove('colab-df-spinner');\n",
              "      quickchartButtonEl.classList.add('colab-df-quickchart-complete');\n",
              "    }\n",
              "    (() => {\n",
              "      let quickchartButtonEl =\n",
              "        document.querySelector('#df-aa1cf3c5-2fe2-4931-a53a-7b0db21b9233 button');\n",
              "      quickchartButtonEl.style.display =\n",
              "        google.colab.kernel.accessAllowed ? 'block' : 'none';\n",
              "    })();\n",
              "  </script>\n",
              "</div>\n",
              "    </div>\n",
              "  </div>\n"
            ],
            "application/vnd.google.colaboratory.intrinsic+json": {
              "type": "dataframe",
              "summary": "{\n  \"name\": \"wine\",\n  \"rows\": 12,\n  \"fields\": [\n    {\n      \"column\": \"count\",\n      \"properties\": {\n        \"dtype\": \"number\",\n        \"std\": 0.0,\n        \"min\": 1359.0,\n        \"max\": 1359.0,\n        \"num_unique_values\": 1,\n        \"samples\": [\n          1359.0\n        ],\n        \"semantic_type\": \"\",\n        \"description\": \"\"\n      }\n    },\n    {\n      \"column\": \"mean\",\n      \"properties\": {\n        \"dtype\": \"number\",\n        \"std\": 13.192468524799581,\n        \"min\": 0.08812362030905076,\n        \"max\": 46.82597498160412,\n        \"num_unique_values\": 12,\n        \"samples\": [\n          10.432315428010792\n        ],\n        \"semantic_type\": \"\",\n        \"description\": \"\"\n      }\n    },\n    {\n      \"column\": \"std\",\n      \"properties\": {\n        \"dtype\": \"number\",\n        \"std\": 9.662753817036048,\n        \"min\": 0.0018689171325591413,\n        \"max\": 33.40894570661652,\n        \"num_unique_values\": 12,\n        \"samples\": [\n          1.0820654499402542\n        ],\n        \"semantic_type\": \"\",\n        \"description\": \"\"\n      }\n    },\n    {\n      \"column\": \"min\",\n      \"properties\": {\n        \"dtype\": \"number\",\n        \"std\": 2.7199194985495714,\n        \"min\": 0.0,\n        \"max\": 8.4,\n        \"num_unique_values\": 12,\n        \"samples\": [\n          8.4\n        ],\n        \"semantic_type\": \"\",\n        \"description\": \"\"\n      }\n    },\n    {\n      \"column\": \"25%\",\n      \"properties\": {\n        \"dtype\": \"number\",\n        \"std\": 6.292677105873769,\n        \"min\": 0.07,\n        \"max\": 22.0,\n        \"num_unique_values\": 12,\n        \"samples\": [\n          9.5\n        ],\n        \"semantic_type\": \"\",\n        \"description\": \"\"\n      }\n    },\n    {\n      \"column\": \"50%\",\n      \"properties\": {\n        \"dtype\": \"number\",\n        \"std\": 10.748224969095498,\n        \"min\": 0.079,\n        \"max\": 38.0,\n        \"num_unique_values\": 12,\n        \"samples\": [\n          10.2\n        ],\n        \"semantic_type\": \"\",\n        \"description\": \"\"\n      }\n    },\n    {\n      \"column\": \"75%\",\n      \"properties\": {\n        \"dtype\": \"number\",\n        \"std\": 17.813350691230458,\n        \"min\": 0.091,\n        \"max\": 63.0,\n        \"num_unique_values\": 12,\n        \"samples\": [\n          11.1\n        ],\n        \"semantic_type\": \"\",\n        \"description\": \"\"\n      }\n    },\n    {\n      \"column\": \"max\",\n      \"properties\": {\n        \"dtype\": \"number\",\n        \"std\": 82.25303187574917,\n        \"min\": 0.611,\n        \"max\": 289.0,\n        \"num_unique_values\": 12,\n        \"samples\": [\n          14.9\n        ],\n        \"semantic_type\": \"\",\n        \"description\": \"\"\n      }\n    }\n  ]\n}"
            }
          },
          "metadata": {},
          "execution_count": 11
        }
      ]
    },
    {
      "cell_type": "markdown",
      "source": [
        "From above describe(), we can see following data sets having issues:\n",
        "<br>1. **residual sugar**: larger difference between min-max and 25, 50, 75 percentile values i.e. median values.\n",
        "<br>2. **free sulfur dioxide**: large gap between min-max and median value\n",
        "<br>3. **total sulfur dioxide**: large gap between min-max and median value"
      ],
      "metadata": {
        "id": "i7qwFxhM5mLF"
      }
    },
    {
      "cell_type": "markdown",
      "source": [
        "##### **STEP 002: Visualizing in Charts**"
      ],
      "metadata": {
        "id": "Lty5eRta7bVh"
      }
    },
    {
      "cell_type": "code",
      "source": [
        "# As we are performing descriptive analysis (insight extraction on population or complete data set)\n",
        "# for data type: continunous quantitative or numerical\n",
        "# the appropriate chart would be box plot for outliers and providing min and max values\n",
        "col_names = ['residual sugar', 'free sulfur dioxide', 'total sulfur dioxide']\n",
        "\n",
        "# Create a figure and three subplots\n",
        "fig, axes = plt.subplots(nrows=1, ncols=3, figsize=(15, 5))\n",
        "\n",
        "# Loop through categories and create box plots\n",
        "for i, column_name in zip(range(len(col_names)), col_names):\n",
        "  ax = axes[i]\n",
        "  wine.boxplot(column= column_name, ax=ax)\n",
        "  ax.set_title('Box plot for' + column_name)\n",
        "  ax.set_xlabel(column_name + 'column')\n",
        "  ax.set_ylabel(column_name + 'value')\n",
        "\n",
        "plt.tight_layout()\n",
        "plt.show()"
      ],
      "metadata": {
        "id": "ah7TciT-5lT-",
        "colab": {
          "base_uri": "https://localhost:8080/",
          "height": 299
        },
        "outputId": "696f31e6-c8c5-4a52-ce86-0783fd9578c7"
      },
      "execution_count": 12,
      "outputs": [
        {
          "output_type": "display_data",
          "data": {
            "text/plain": [
              "<Figure size 1500x500 with 3 Axes>"
            ],
            "image/png": "[encoded data removed]"
          },
          "metadata": {}
        }
      ]
    },
    {
      "cell_type": "markdown",
      "source": [
        "##### **STEP 003: Handling Outliers - IQR Technique**\n",
        "Below are the techniques applied to handle outliers:\n",
        "<br>**1. Dropping data columns**\n",
        "<br>**Logic 01:** Dropping columns where percentage of outliers (using IQR outlier detection) is greater than some threshold (taking 6 for current case)\n",
        "<br>**Logic 02:** Dropping records instead of column when detected as outliers\n",
        "<br>**Implemented:** Code for both logic written below, but for the given case, Logic 01 has been implemented; because on logic 02 implementation all records for quality column more than value 6 are dropped, hence creating issues with our analysis"
      ],
      "metadata": {
        "id": "bcNFREsl7mZF"
      }
    },
    {
      "cell_type": "code",
      "source": [
        "# Applying these logic to input columns\n",
        "output_column = 'quality'\n",
        "input_columns = list(wine.columns)\n",
        "\n",
        "# Removing output column from list of potential input to the models\n",
        "input_columns.remove(output_column)"
      ],
      "metadata": {
        "id": "SIefwgWjsykQ"
      },
      "execution_count": 13,
      "outputs": []
    },
    {
      "cell_type": "code",
      "source": [
        "# Logic 02: Dropping records instead of column when detected as outliers\n",
        "\n",
        "# Creating a new variable to drop outlier affected columns\n",
        "# Moreover, keeping actual data intact\n",
        "wine_outlier_pruned = wine\n",
        "summary = wine_outlier_pruned.describe()\n",
        "\n",
        "# Initializing 'upper_bound' and 'lower_bound' rows with NaN values\n",
        "summary.loc['lower_bound'] = pd.Series(index=summary.columns, dtype=float)\n",
        "summary.loc['upper_bound'] = pd.Series(index=summary.columns, dtype=float)\n",
        "\n",
        "for column_name in summary:\n",
        "  Q1 = summary[column_name]['25%']\n",
        "  Q3 = summary[column_name]['75%']\n",
        "\n",
        "  # Computing interquartile range\n",
        "  IQR = Q3 - Q1\n",
        "\n",
        "  # Computing upper and lower bound whisker values\n",
        "  upper_bound = Q3 + 1.5*IQR\n",
        "  lower_bound = Q1 - 1.5*IQR\n",
        "\n",
        "  # Adding lower and upper bound values to summary data frame\n",
        "  summary[column_name]['upper_bound'] = upper_bound\n",
        "  summary[column_name]['lower_bound'] = lower_bound\n",
        "\n",
        "# Keeping records which lies between lower and upper bound as for the corresponding columns\n",
        "for column_name in summary:\n",
        "  if column_name != output_column:\n",
        "    wine_outlier_pruned = wine_outlier_pruned[(summary[column_name]['lower_bound'] <= wine_outlier_pruned[column_name])  &\n",
        "                                                          (wine_outlier_pruned[column_name] <= summary[column_name]['upper_bound'])]\n"
      ],
      "metadata": {
        "id": "6Wz1AJExK-hF"
      },
      "execution_count": 14,
      "outputs": []
    },
    {
      "cell_type": "markdown",
      "source": [
        "**Drop Outliers data percentage is 26%** but we will still continue with trimmed dataset for futher analysis, as orignial data is avialble for performance comparision metrics"
      ],
      "metadata": {
        "id": "8tIWSf5ywW0a"
      }
    },
    {
      "cell_type": "code",
      "source": [
        "# Drop percentage of data:\n",
        "print('Dropped percentage after outlier technique applied: ', round((100*(len(wine) - len(wine_outlier_pruned))) /len(wine), 2), '%', sep='')"
      ],
      "metadata": {
        "colab": {
          "base_uri": "https://localhost:8080/"
        },
        "id": "_2jaYDjwpaLP",
        "outputId": "dafec69b-958e-48db-ade9-2264f3911385"
      },
      "execution_count": 15,
      "outputs": [
        {
          "output_type": "stream",
          "name": "stdout",
          "text": [
            "Dropped percentage after outlier technique applied: 25.02%\n"
          ]
        }
      ]
    },
    {
      "cell_type": "code",
      "source": [
        "# Logic 01: Dropping columns where percentage of outliers (using IQR outlier detection) is greater than some threshold\n",
        "\n",
        "# Creating a new variable to drop outlier affected columns\n",
        "# Moreover, keeping actual data intact\n",
        "wine_outlier_pruned = wine\n",
        "summary = wine_outlier_pruned.describe()\n",
        "\n",
        "# Initializing 'upper_bound' and 'lower_bound' rows with NaN values\n",
        "summary.loc['lower_bound'] = pd.Series(index=summary.columns, dtype=float)\n",
        "summary.loc['upper_bound'] = pd.Series(index=summary.columns, dtype=float)\n",
        "\n",
        "for column_name in summary:\n",
        "  Q1 = summary[column_name]['25%']\n",
        "  Q3 = summary[column_name]['75%']\n",
        "\n",
        "  # Computing interquartile range\n",
        "  IQR = Q3 - Q1\n",
        "\n",
        "  # Computing upper and lower bound whisker values\n",
        "  upper_bound = Q3 + 1.5*IQR\n",
        "  lower_bound = Q1 - 1.5*IQR\n",
        "\n",
        "  summary[column_name]['upper_bound'] = upper_bound\n",
        "  summary[column_name]['lower_bound'] = lower_bound\n",
        "\n",
        "# If number of records percentage say x is greater than a certain value say threshold we will drop those columns\n",
        "threshold = 6\n",
        "for column_name in summary:\n",
        "  # calculate number of outliers:\n",
        "  # outliers less than lower and greater than upper bound\n",
        "  no_outliers = ( (wine_outlier_pruned[column_name] < summary[column_name]['lower_bound']) | (summary[column_name]['upper_bound'] < wine_outlier_pruned[column_name]) ).sum()\n",
        "  perc_outliers = (100*no_outliers)/len(wine_outlier_pruned)\n",
        "\n",
        "\n",
        "  if perc_outliers > threshold and column_name != output_column:\n",
        "    print('Column name:', column_name)\n",
        "    print('outlier number:', no_outliers)\n",
        "    print('total records:', len(wine_outlier_pruned))\n",
        "    print('total outlier percentage: ', round(perc_outliers, 2), '%', sep='')\n",
        "    print('-'*100)\n",
        "\n",
        "    wine_outlier_pruned = wine_outlier_pruned.drop(columns = column_name)\n",
        "\n",
        "    # Removing column from list of potential input to the models - due to outliers\n",
        "    input_columns.remove(column_name)\n",
        "\n",
        "print(type(wine),'\"---',wine_outlier_pruned.columns)\n"
      ],
      "metadata": {
        "id": "YRtoIFAP74Av",
        "colab": {
          "base_uri": "https://localhost:8080/"
        },
        "outputId": "c9a8a32f-3b4f-4e3a-fb34-9aada0574e30"
      },
      "execution_count": 16,
      "outputs": [
        {
          "output_type": "stream",
          "name": "stdout",
          "text": [
            "Column name: residual sugar\n",
            "outlier number: 126\n",
            "total records: 1359\n",
            "total outlier percentage: 9.27%\n",
            "----------------------------------------------------------------------------------------------------\n",
            "Column name: chlorides\n",
            "outlier number: 87\n",
            "total records: 1359\n",
            "total outlier percentage: 6.4%\n",
            "----------------------------------------------------------------------------------------------------\n",
            "<class 'pandas.core.frame.DataFrame'> \"--- Index(['fixed acidity', 'volatile acidity', 'citric acid',\n",
            "       'free sulfur dioxide', 'total sulfur dioxide', 'density', 'pH',\n",
            "       'sulphates', 'alcohol', 'quality'],\n",
            "      dtype='object')\n"
          ]
        }
      ]
    },
    {
      "cell_type": "markdown",
      "source": [
        "#### **4.1.2. Structural Error**\n",
        "Checking on the below itmes:\n",
        "<br>1. Appropriate column names\n",
        "<br>2. Appropriate Input & Output data values"
      ],
      "metadata": {
        "id": "7pQnJwXGiBjw"
      }
    },
    {
      "cell_type": "code",
      "source": [
        "# Since, this is an application of Classification Supervised Machine Learning\n",
        "# But, result or output dataset, i.e. quality is continous data ranging from 0 to 10\n",
        "# As per logic we will re-lable quality column with below logic\n",
        "# 0 i.e. bad wine ranging quality value from 0 to 6.5\n",
        "# 1 i.e. good wine ranging from 6.5 to 10\n",
        "\n",
        "# Performing this activity for both data frame: wine (orginal) and wine_outlier_pruned (processed)\n",
        "wine['quality'] = wine['quality'].apply(lambda x: 0 if x <= 6.5 else 1)\n",
        "wine_outlier_pruned['quality'] = wine_outlier_pruned['quality'].apply(lambda x: 0 if x <= 6.5 else 1)"
      ],
      "metadata": {
        "id": "94zukM9moD2v"
      },
      "execution_count": 17,
      "outputs": []
    },
    {
      "cell_type": "code",
      "source": [
        "# Validating if re-labeling completed\n",
        "\n",
        "print('unique values of wine orginal quality data column', wine['quality'].unique())\n",
        "print('unique values of wine_outlier_pruned\\'s quality data column', wine_outlier_pruned['quality'].unique())"
      ],
      "metadata": {
        "colab": {
          "base_uri": "https://localhost:8080/"
        },
        "id": "t41Y06_mpf2Q",
        "outputId": "1f909742-7f76-4263-a9e7-20b94a5fffab"
      },
      "execution_count": 18,
      "outputs": [
        {
          "output_type": "stream",
          "name": "stdout",
          "text": [
            "unique values of wine orginal quality data column [0 1]\n",
            "unique values of wine_outlier_pruned's quality data column [0 1]\n"
          ]
        }
      ]
    },
    {
      "cell_type": "markdown",
      "source": [
        "#### **4.1.3. Missing or Null Values**\n",
        "Handling records with the following scenarios:\n",
        "<br>&nbsp;&nbsp;&nbsp;&nbsp;1. NaN (Not a Number), or NA (Not Available)\n",
        "<br>&nbsp;&nbsp;&nbsp;&nbsp;2. Null Values\n",
        "<br>&nbsp;&nbsp;&nbsp;&nbsp;3. Empty Value"
      ],
      "metadata": {
        "id": "OIr_uIHXjDGl"
      }
    },
    {
      "cell_type": "code",
      "source": [
        "mis_flg = True\n",
        "\n",
        "for col_name, col_val in (wine_outlier_pruned.isnull().sum() + wine_outlier_pruned.isna().sum()\n",
        "                           + wine_outlier_pruned.eq('').sum()).items():\n",
        "  if col_val > 0:\n",
        "    print('We need to handle Missing or Null values in Col:', col_name, 'for', col_val, 'number of records')\n",
        "    mis_flg = False\n",
        "\n",
        "if mis_flg:\n",
        "  print('No missing or null value present therefore skipping the step')\n",
        "\n",
        "# Alternative way\n",
        "print('-'*100)\n",
        "print((wine_outlier_pruned.isnull().sum()/(len(wine_outlier_pruned)))*100)"
      ],
      "metadata": {
        "id": "6dWdkdw2vfDM",
        "colab": {
          "base_uri": "https://localhost:8080/"
        },
        "outputId": "c88def4d-24fc-4f82-d166-e26a21d912d8"
      },
      "execution_count": 19,
      "outputs": [
        {
          "output_type": "stream",
          "name": "stdout",
          "text": [
            "No missing or null value present therefore skipping the step\n",
            "----------------------------------------------------------------------------------------------------\n",
            "fixed acidity           0.0\n",
            "volatile acidity        0.0\n",
            "citric acid             0.0\n",
            "free sulfur dioxide     0.0\n",
            "total sulfur dioxide    0.0\n",
            "density                 0.0\n",
            "pH                      0.0\n",
            "sulphates               0.0\n",
            "alcohol                 0.0\n",
            "quality                 0.0\n",
            "dtype: float64\n"
          ]
        }
      ]
    },
    {
      "cell_type": "markdown",
      "source": [
        "### **4.2. EDA - Exploratory Analysis**\n",
        "Reference Link: [link text](https://www.analyticsvidhya.com/blog/2022/07/step-by-step-exploratory-data-analysis-eda-using-python/)"
      ],
      "metadata": {
        "id": "X2AmjwonnNXH"
      }
    },
    {
      "cell_type": "code",
      "source": [
        "# All the inputs are numerical/ Quantitative continuous data type\n",
        "wine.nunique()"
      ],
      "metadata": {
        "id": "qw20ZfzOnjuQ",
        "colab": {
          "base_uri": "https://localhost:8080/"
        },
        "outputId": "3f3c2702-b245-428f-8556-42bd42a3f586"
      },
      "execution_count": 20,
      "outputs": [
        {
          "output_type": "execute_result",
          "data": {
            "text/plain": [
              "fixed acidity            96\n",
              "volatile acidity        143\n",
              "citric acid              80\n",
              "residual sugar           91\n",
              "chlorides               153\n",
              "free sulfur dioxide      60\n",
              "total sulfur dioxide    144\n",
              "density                 436\n",
              "pH                       89\n",
              "sulphates                96\n",
              "alcohol                  65\n",
              "quality                   2\n",
              "dtype: int64"
            ]
          },
          "metadata": {},
          "execution_count": 20
        }
      ]
    },
    {
      "cell_type": "code",
      "source": [
        "# Separating Categorical and Numerical data type\n",
        "\n",
        "cat_cols=wine_outlier_pruned.select_dtypes(include=['object']).columns\n",
        "num_cols = wine_outlier_pruned.select_dtypes(include=np.number).columns.tolist()\n",
        "print(\"Categorical Variables:\")\n",
        "print(cat_cols)\n",
        "print(\"Numerical Variables:\")\n",
        "print(num_cols)"
      ],
      "metadata": {
        "colab": {
          "base_uri": "https://localhost:8080/"
        },
        "id": "KyU8p2m2nRxZ",
        "outputId": "2233c695-5d7a-4492-8c71-3b462fed9ae3"
      },
      "execution_count": 21,
      "outputs": [
        {
          "output_type": "stream",
          "name": "stdout",
          "text": [
            "Categorical Variables:\n",
            "Index([], dtype='object')\n",
            "Numerical Variables:\n",
            "['fixed acidity', 'volatile acidity', 'citric acid', 'free sulfur dioxide', 'total sulfur dioxide', 'density', 'pH', 'sulphates', 'alcohol', 'quality']\n"
          ]
        }
      ]
    },
    {
      "cell_type": "markdown",
      "source": [
        "#### 4.2.1. **EDA - Univariate Analysis**"
      ],
      "metadata": {
        "id": "f2QPrO2TFeHC"
      }
    },
    {
      "cell_type": "code",
      "source": [
        "for col in num_cols:\n",
        "  if col != output_column:\n",
        "    print(col)\n",
        "    print('Skew :', round(wine_outlier_pruned[col].skew(), 2))\n",
        "    plt.figure(figsize = (8, 2))\n",
        "    plt.subplot(1, 2, 1)\n",
        "    wine_outlier_pruned[col].hist(grid=False)\n",
        "    plt.ylabel('count')\n",
        "    plt.subplot(1, 2, 2)\n",
        "    sns.boxplot(x=wine_outlier_pruned[col])\n",
        "    plt.show()"
      ],
      "metadata": {
        "colab": {
          "base_uri": "https://localhost:8080/",
          "height": 1000
        },
        "id": "ZHjKguAdFXXB",
        "outputId": "29f23e63-47cc-4059-f9e5-5044d3f05f18"
      },
      "execution_count": 22,
      "outputs": [
        {
          "output_type": "stream",
          "name": "stdout",
          "text": [
            "fixed acidity\n",
            "Skew : 0.94\n"
          ]
        },
        {
          "output_type": "display_data",
          "data": {
            "text/plain": [
              "<Figure size 800x200 with 2 Axes>"
            ],
            "image/png": "[encoded data removed]"
          },
          "metadata": {}
        },
        {
          "output_type": "stream",
          "name": "stdout",
          "text": [
            "volatile acidity\n",
            "Skew : 0.73\n"
          ]
        },
        {
          "output_type": "display_data",
          "data": {
            "text/plain": [
              "<Figure size 800x200 with 2 Axes>"
            ],
            "image/png": "[encoded data removed]"
          },
          "metadata": {}
        },
        {
          "output_type": "stream",
          "name": "stdout",
          "text": [
            "citric acid\n",
            "Skew : 0.31\n"
          ]
        },
        {
          "output_type": "display_data",
          "data": {
            "text/plain": [
              "<Figure size 800x200 with 2 Axes>"
            ],
            "image/png": "[encoded data removed]"
          },
          "metadata": {}
        },
        {
          "output_type": "stream",
          "name": "stdout",
          "text": [
            "free sulfur dioxide\n",
            "Skew : 1.23\n"
          ]
        },
        {
          "output_type": "display_data",
          "data": {
            "text/plain": [
              "<Figure size 800x200 with 2 Axes>"
            ],
            "image/png": "[encoded data removed]"
          },
          "metadata": {}
        },
        {
          "output_type": "stream",
          "name": "stdout",
          "text": [
            "total sulfur dioxide\n",
            "Skew : 1.54\n"
          ]
        },
        {
          "output_type": "display_data",
          "data": {
            "text/plain": [
              "<Figure size 800x200 with 2 Axes>"
            ],
            "image/png": "[encoded data removed]"
          },
          "metadata": {}
        },
        {
          "output_type": "stream",
          "name": "stdout",
          "text": [
            "density\n",
            "Skew : 0.04\n"
          ]
        },
        {
          "output_type": "display_data",
          "data": {
            "text/plain": [
              "<Figure size 800x200 with 2 Axes>"
            ],
            "image/png": "[encoded data removed]"
          },
          "metadata": {}
        },
        {
          "output_type": "stream",
          "name": "stdout",
          "text": [
            "pH\n",
            "Skew : 0.23\n"
          ]
        },
        {
          "output_type": "display_data",
          "data": {
            "text/plain": [
              "<Figure size 800x200 with 2 Axes>"
            ],
            "image/png": "[encoded data removed]"
          },
          "metadata": {}
        },
        {
          "output_type": "stream",
          "name": "stdout",
          "text": [
            "sulphates\n",
            "Skew : 2.41\n"
          ]
        },
        {
          "output_type": "display_data",
          "data": {
            "text/plain": [
              "<Figure size 800x200 with 2 Axes>"
            ],
            "image/png": "[encoded data removed]"
          },
          "metadata": {}
        },
        {
          "output_type": "stream",
          "name": "stdout",
          "text": [
            "alcohol\n",
            "Skew : 0.86\n"
          ]
        },
        {
          "output_type": "display_data",
          "data": {
            "text/plain": [
              "<Figure size 800x200 with 2 Axes>"
            ],
            "image/png": "[encoded data removed]"
          },
          "metadata": {}
        }
      ]
    },
    {
      "cell_type": "markdown",
      "source": [
        "#### **4.2.2. Data Transformation**\n",
        "Highly skewed data for quantitative continuous variable can be normalzied with the help of log function"
      ],
      "metadata": {
        "id": "lMWvaQpZHg_d"
      }
    },
    {
      "cell_type": "code",
      "source": [
        "# Function for log transformation of the column\n",
        "def log_transform(data,col):\n",
        "    for colname in col:\n",
        "        if (data[colname] == 1.0).all():\n",
        "            data[colname + '_log'] = np.log(data[colname]+1)\n",
        "        else:\n",
        "            data[colname + '_log'] = np.log(data[colname])\n",
        "\n",
        "        # Removing column from list of potential input to the models - data transformation\n",
        "        input_columns.remove(colname)\n",
        "\n",
        "        # Adding new column formed after data transformation into input column list\n",
        "        input_columns.append(colname + '_log')\n",
        "\n",
        "for col in num_cols:\n",
        "  if col != output_column and round(wine_outlier_pruned[col].skew(), 2) > 0.65:\n",
        "    print(col)\n",
        "    print('Skew :', round(wine_outlier_pruned[col].skew(), 2))\n",
        "    log_transform(wine_outlier_pruned, [col])\n",
        "\n",
        "    plt.figure(figsize = (6, 2))\n",
        "    plt.subplot(1, 1, 1)\n",
        "    #Log transformation\n",
        "    sns.distplot(wine_outlier_pruned[col], axlabel= col)\n",
        "    plt.show()\n"
      ],
      "metadata": {
        "colab": {
          "base_uri": "https://localhost:8080/",
          "height": 1000
        },
        "id": "pWfS7tZwFXbc",
        "outputId": "5d6b8257-5306-4f85-96fe-41bf6a785426"
      },
      "execution_count": 23,
      "outputs": [
        {
          "output_type": "stream",
          "name": "stdout",
          "text": [
            "fixed acidity\n",
            "Skew : 0.94\n"
          ]
        },
        {
          "output_type": "display_data",
          "data": {
            "text/plain": [
              "<Figure size 600x200 with 1 Axes>"
            ],
            "image/png": "[encoded data removed]"
          },
          "metadata": {}
        },
        {
          "output_type": "stream",
          "name": "stdout",
          "text": [
            "volatile acidity\n",
            "Skew : 0.73\n"
          ]
        },
        {
          "output_type": "display_data",
          "data": {
            "text/plain": [
              "<Figure size 600x200 with 1 Axes>"
            ],
            "image/png": "[encoded data removed]"
          },
          "metadata": {}
        },
        {
          "output_type": "stream",
          "name": "stdout",
          "text": [
            "free sulfur dioxide\n",
            "Skew : 1.23\n"
          ]
        },
        {
          "output_type": "display_data",
          "data": {
            "text/plain": [
              "<Figure size 600x200 with 1 Axes>"
            ],
            "image/png": "[encoded data removed]"
          },
          "metadata": {}
        },
        {
          "output_type": "stream",
          "name": "stdout",
          "text": [
            "total sulfur dioxide\n",
            "Skew : 1.54\n"
          ]
        },
        {
          "output_type": "display_data",
          "data": {
            "text/plain": [
              "<Figure size 600x200 with 1 Axes>"
            ],
            "image/png": "[encoded data removed]"
          },
          "metadata": {}
        },
        {
          "output_type": "stream",
          "name": "stdout",
          "text": [
            "sulphates\n",
            "Skew : 2.41\n"
          ]
        },
        {
          "output_type": "display_data",
          "data": {
            "text/plain": [
              "<Figure size 600x200 with 1 Axes>"
            ],
            "image/png": "[encoded data removed]"
          },
          "metadata": {}
        },
        {
          "output_type": "stream",
          "name": "stdout",
          "text": [
            "alcohol\n",
            "Skew : 0.86\n"
          ]
        },
        {
          "output_type": "display_data",
          "data": {
            "text/plain": [
              "<Figure size 600x200 with 1 Axes>"
            ],
            "image/png": "[encoded data removed]"
          },
          "metadata": {}
        }
      ]
    },
    {
      "cell_type": "code",
      "source": [
        "# Newly constructred normalized columns for higly screwed continous data type columns\n",
        "# These columns with have \"_log\" as suffix to identify them easily\n",
        "wine_outlier_pruned.info()"
      ],
      "metadata": {
        "id": "E-SOEbTdI4To",
        "colab": {
          "base_uri": "https://localhost:8080/"
        },
        "outputId": "2fb632fb-4710-4960-d9e6-11236f486d45"
      },
      "execution_count": 24,
      "outputs": [
        {
          "output_type": "stream",
          "name": "stdout",
          "text": [
            "<class 'pandas.core.frame.DataFrame'>\n",
            "Int64Index: 1359 entries, 0 to 1598\n",
            "Data columns (total 16 columns):\n",
            " #   Column                    Non-Null Count  Dtype  \n",
            "---  ------                    --------------  -----  \n",
            " 0   fixed acidity             1359 non-null   float64\n",
            " 1   volatile acidity          1359 non-null   float64\n",
            " 2   citric acid               1359 non-null   float64\n",
            " 3   free sulfur dioxide       1359 non-null   float64\n",
            " 4   total sulfur dioxide      1359 non-null   float64\n",
            " 5   density                   1359 non-null   float64\n",
            " 6   pH                        1359 non-null   float64\n",
            " 7   sulphates                 1359 non-null   float64\n",
            " 8   alcohol                   1359 non-null   float64\n",
            " 9   quality                   1359 non-null   int64  \n",
            " 10  fixed acidity_log         1359 non-null   float64\n",
            " 11  volatile acidity_log      1359 non-null   float64\n",
            " 12  free sulfur dioxide_log   1359 non-null   float64\n",
            " 13  total sulfur dioxide_log  1359 non-null   float64\n",
            " 14  sulphates_log             1359 non-null   float64\n",
            " 15  alcohol_log               1359 non-null   float64\n",
            "dtypes: float64(15), int64(1)\n",
            "memory usage: 180.5 KB\n"
          ]
        }
      ]
    },
    {
      "cell_type": "markdown",
      "source": [
        "### **4.3.1 Feature Selection**\n",
        "[Reference Link](https://www.analyticsvidhya.com/blog/2020/10/feature-selection-techniques-in-machine-learning/)\n",
        "<br>Currently, we are not including any feature selection technique for this project"
      ],
      "metadata": {
        "id": "cMnBKdMB7zQV"
      }
    },
    {
      "cell_type": "markdown",
      "source": [
        "## **Model Training**"
      ],
      "metadata": {
        "id": "gFR_zCvh7Ns4"
      }
    },
    {
      "cell_type": "code",
      "source": [
        "#Now seperate the dataset as response variable and feature variabes\n",
        "X = wine_outlier_pruned[input_columns]\n",
        "y = wine_outlier_pruned[output_column]\n",
        "\n",
        "X_org = wine.drop(output_column, axis = 1)\n",
        "y_org = wine[output_column]"
      ],
      "metadata": {
        "id": "AHvER-1J8m0q"
      },
      "execution_count": 25,
      "outputs": []
    },
    {
      "cell_type": "code",
      "source": [
        "########################### Alternative Data Set\n",
        "# Using orginal columns instead of log columns\n",
        "# as after coverting them in a normal form, their new normalized values are not providing better result\n",
        "# and below data set after optimzation in SVC provdies 95% accuracy\n",
        "\n",
        "# #Now seperate the dataset as response variable and feature variabes\n",
        "# X = wine_outlier_pruned[['citric acid', 'density', 'pH', 'fixed acidity',\n",
        "#        'volatile acidity', 'free sulfur dioxide',\n",
        "#        'total sulfur dioxide', 'sulphates', 'alcohol']]\n",
        "# y = wine_outlier_pruned[output_column]\n",
        "\n",
        "# X_org = wine.drop(output_column, axis = 1)\n",
        "# y_org = wine[output_column]"
      ],
      "metadata": {
        "id": "CN7upyLTGxD8"
      },
      "execution_count": 26,
      "outputs": []
    },
    {
      "cell_type": "code",
      "source": [
        "#Train and Test splitting of data\n",
        "X_train, X_test, y_train, y_test = train_test_split(X, y, test_size = 0.2, random_state = 42)\n",
        "X_org_train, X_org_test, y_org_train, y_org_test = train_test_split(X_org, y_org, test_size = 0.2, random_state = 42)"
      ],
      "metadata": {
        "id": "aXay3KetNAzt"
      },
      "execution_count": 27,
      "outputs": []
    },
    {
      "cell_type": "code",
      "source": [
        "#Applying Standard scaling to get optimized result\n",
        "sc = StandardScaler()\n",
        "\n",
        "X_train = sc.fit_transform(X_train)\n",
        "X_test = sc.fit_transform(X_test)\n",
        "\n",
        "X_org_train = sc.fit_transform(X_org_train)\n",
        "X_org_test = sc.fit_transform(X_org_test)"
      ],
      "metadata": {
        "id": "Q0oPfDnu9Wbv"
      },
      "execution_count": 28,
      "outputs": []
    },
    {
      "cell_type": "code",
      "source": [
        "# Random Forest Classifier\n",
        "rfc = RandomForestClassifier(n_estimators=200)\n",
        "rfc.fit(X_train, y_train)\n",
        "pred_rfc = rfc.predict(X_test)\n",
        "\n",
        "rfc = RandomForestClassifier(n_estimators=200)\n",
        "rfc.fit(X_org_train, y_org_train)\n",
        "pred_org_rfc = rfc.predict(X_org_test)"
      ],
      "metadata": {
        "id": "_Au64xXz9oK0"
      },
      "execution_count": 29,
      "outputs": []
    },
    {
      "cell_type": "code",
      "source": [
        "# Stochastic Gradient Decent Classifier\n",
        "\n",
        "sgd = SGDClassifier(penalty=None)\n",
        "sgd.fit(X_train, y_train)\n",
        "pred_sgd = sgd.predict(X_test)\n",
        "\n",
        "sgd = SGDClassifier(penalty=None)\n",
        "sgd.fit(X_org_train, y_org_train)\n",
        "pred_org_sgd = sgd.predict(X_org_test)"
      ],
      "metadata": {
        "id": "E01LcOjb_awi"
      },
      "execution_count": 30,
      "outputs": []
    },
    {
      "cell_type": "code",
      "source": [
        "# Support Vector Classifier\n",
        "\n",
        "svc = SVC()\n",
        "svc.fit(X_train, y_train)\n",
        "pred_svc = svc.predict(X_test)\n",
        "\n",
        "svc = SVC()\n",
        "svc.fit(X_org_train, y_org_train)\n",
        "pred_org_svc = svc.predict(X_org_test)"
      ],
      "metadata": {
        "id": "UJDDMrxW_6b8"
      },
      "execution_count": 31,
      "outputs": []
    },
    {
      "cell_type": "markdown",
      "source": [
        "## **Model Testing**"
      ],
      "metadata": {
        "id": "tymV45Yz9_Ep"
      }
    },
    {
      "cell_type": "code",
      "source": [
        "# Random Forest Classification\n",
        "\n",
        "#Let's see how our model performed\n",
        "print(classification_report(y_test, pred_rfc))\n",
        "\n",
        "print(classification_report(y_org_test, pred_org_rfc))"
      ],
      "metadata": {
        "colab": {
          "base_uri": "https://localhost:8080/"
        },
        "id": "D-dr5MQl-BSZ",
        "outputId": "141d733d-b496-4890-d99c-b862e0e53e61"
      },
      "execution_count": 32,
      "outputs": [
        {
          "output_type": "stream",
          "name": "stdout",
          "text": [
            "              precision    recall  f1-score   support\n",
            "\n",
            "           0       0.92      0.97      0.95       238\n",
            "           1       0.70      0.41      0.52        34\n",
            "\n",
            "    accuracy                           0.90       272\n",
            "   macro avg       0.81      0.69      0.73       272\n",
            "weighted avg       0.89      0.90      0.89       272\n",
            "\n",
            "              precision    recall  f1-score   support\n",
            "\n",
            "           0       0.92      0.98      0.95       238\n",
            "           1       0.72      0.38      0.50        34\n",
            "\n",
            "    accuracy                           0.90       272\n",
            "   macro avg       0.82      0.68      0.72       272\n",
            "weighted avg       0.89      0.90      0.89       272\n",
            "\n"
          ]
        }
      ]
    },
    {
      "cell_type": "code",
      "source": [
        "# Stochastic Gradient Decent Classifier\n",
        "\n",
        "print(classification_report(y_test, pred_sgd))\n",
        "\n",
        "print(classification_report(y_org_test, pred_org_sgd))"
      ],
      "metadata": {
        "colab": {
          "base_uri": "https://localhost:8080/"
        },
        "id": "1qtj_oxl_cqN",
        "outputId": "677f4243-c0b8-4662-ddd1-da8a72ad9f21"
      },
      "execution_count": 33,
      "outputs": [
        {
          "output_type": "stream",
          "name": "stdout",
          "text": [
            "              precision    recall  f1-score   support\n",
            "\n",
            "           0       0.95      0.88      0.92       238\n",
            "           1       0.45      0.68      0.54        34\n",
            "\n",
            "    accuracy                           0.86       272\n",
            "   macro avg       0.70      0.78      0.73       272\n",
            "weighted avg       0.89      0.86      0.87       272\n",
            "\n",
            "              precision    recall  f1-score   support\n",
            "\n",
            "           0       0.92      0.95      0.94       238\n",
            "           1       0.56      0.41      0.47        34\n",
            "\n",
            "    accuracy                           0.89       272\n",
            "   macro avg       0.74      0.68      0.71       272\n",
            "weighted avg       0.87      0.89      0.88       272\n",
            "\n"
          ]
        }
      ]
    },
    {
      "cell_type": "code",
      "source": [
        "# Support Vector Classifier\n",
        "\n",
        "print(classification_report(y_test, pred_svc))\n",
        "\n",
        "print(classification_report(y_org_test, pred_org_svc))"
      ],
      "metadata": {
        "colab": {
          "base_uri": "https://localhost:8080/"
        },
        "id": "SkQbHOD-_-VK",
        "outputId": "efa7716e-08c0-4494-a34e-a4d0fd0eaf1c"
      },
      "execution_count": 34,
      "outputs": [
        {
          "output_type": "stream",
          "name": "stdout",
          "text": [
            "              precision    recall  f1-score   support\n",
            "\n",
            "           0       0.93      0.99      0.96       238\n",
            "           1       0.83      0.44      0.58        34\n",
            "\n",
            "    accuracy                           0.92       272\n",
            "   macro avg       0.88      0.71      0.77       272\n",
            "weighted avg       0.91      0.92      0.91       272\n",
            "\n",
            "              precision    recall  f1-score   support\n",
            "\n",
            "           0       0.93      0.99      0.96       238\n",
            "           1       0.83      0.44      0.58        34\n",
            "\n",
            "    accuracy                           0.92       272\n",
            "   macro avg       0.88      0.71      0.77       272\n",
            "weighted avg       0.91      0.92      0.91       272\n",
            "\n"
          ]
        }
      ]
    },
    {
      "cell_type": "markdown",
      "source": [
        "## **Model Optimization**"
      ],
      "metadata": {
        "id": "jVEcyXFgBJcE"
      }
    },
    {
      "cell_type": "code",
      "source": [
        "# Grid Search CV\n",
        "\n",
        "#Finding best parameters for our SVC model\n",
        "param = {\n",
        "    'C': [0.1,0.8,0.9,1,1.1,1.2,1.3,1.4],\n",
        "    'kernel':['linear', 'rbf'],\n",
        "    'gamma' :[0.1,0.8,0.9,1,1.1,1.2,1.3,1.4]\n",
        "}\n",
        "grid_svc = GridSearchCV(svc, param_grid=param, scoring='accuracy', cv=10)"
      ],
      "metadata": {
        "id": "YDFgCRe0BI8N"
      },
      "execution_count": 35,
      "outputs": []
    },
    {
      "cell_type": "code",
      "source": [
        "# Training your data to find best parameters - On the processed dataset\n",
        "grid_svc.fit(X_train, y_train)\n",
        "\n",
        "#Best parameters for our svc model\n",
        "print('Best Parameters for grid svc', grid_svc.best_params_)"
      ],
      "metadata": {
        "id": "3CU6yVi6DSg8",
        "colab": {
          "base_uri": "https://localhost:8080/"
        },
        "outputId": "82349b0f-538d-482f-c285-52c3ced1af29"
      },
      "execution_count": 36,
      "outputs": [
        {
          "output_type": "stream",
          "name": "stdout",
          "text": [
            "Best Parameters for grid svc {'C': 1.1, 'gamma': 0.8, 'kernel': 'rbf'}\n"
          ]
        }
      ]
    },
    {
      "cell_type": "code",
      "source": [
        "#Let's run our SVC again with the best parameters\n",
        "svc2 = SVC(C = 1.1, gamma =  0.8, kernel= 'rbf')\n",
        "svc2.fit(X_train, y_train)\n",
        "pred_svc2 = svc2.predict(X_test)\n",
        "print(classification_report(y_test, pred_svc2))"
      ],
      "metadata": {
        "colab": {
          "base_uri": "https://localhost:8080/"
        },
        "id": "wXRxg1l3BnmM",
        "outputId": "3c054358-37de-460f-e702-9efb34471267"
      },
      "execution_count": 37,
      "outputs": [
        {
          "output_type": "stream",
          "name": "stdout",
          "text": [
            "              precision    recall  f1-score   support\n",
            "\n",
            "           0       0.92      1.00      0.95       238\n",
            "           1       0.92      0.35      0.51        34\n",
            "\n",
            "    accuracy                           0.92       272\n",
            "   macro avg       0.92      0.67      0.73       272\n",
            "weighted avg       0.92      0.92      0.90       272\n",
            "\n"
          ]
        }
      ]
    },
    {
      "cell_type": "code",
      "source": [
        "# Training model to fit the best parameters - On orginial dataset\n",
        "grid_svc.fit(X_org_train, y_org_train)\n",
        "\n",
        "#Best parameters for our svc model\n",
        "print('Best Parameters for grid svc', grid_svc.best_params_)"
      ],
      "metadata": {
        "id": "Ul6VCm_dDeNE",
        "colab": {
          "base_uri": "https://localhost:8080/"
        },
        "outputId": "56391d60-d813-4395-e8d7-1c709539c8c2"
      },
      "execution_count": 38,
      "outputs": [
        {
          "output_type": "stream",
          "name": "stdout",
          "text": [
            "Best Parameters for grid svc {'C': 0.8, 'gamma': 0.1, 'kernel': 'rbf'}\n"
          ]
        }
      ]
    },
    {
      "cell_type": "code",
      "source": [
        "#Let's run our SVC again with the best parameters.\n",
        "svc2 = SVC(C = 0.8, gamma =  0.1, kernel= 'rbf')\n",
        "svc2.fit(X_org_train, y_org_train)\n",
        "pred_org_svc2 = svc2.predict(X_org_test)\n",
        "print(classification_report(y_org_test, pred_org_svc2))"
      ],
      "metadata": {
        "colab": {
          "base_uri": "https://localhost:8080/"
        },
        "id": "X1G06pfCCYlc",
        "outputId": "e3ab6343-1def-4cc0-b966-b52fc84e22e9"
      },
      "execution_count": 39,
      "outputs": [
        {
          "output_type": "stream",
          "name": "stdout",
          "text": [
            "              precision    recall  f1-score   support\n",
            "\n",
            "           0       0.92      0.99      0.96       238\n",
            "           1       0.88      0.41      0.56        34\n",
            "\n",
            "    accuracy                           0.92       272\n",
            "   macro avg       0.90      0.70      0.76       272\n",
            "weighted avg       0.92      0.92      0.91       272\n",
            "\n"
          ]
        }
      ]
    },
    {
      "cell_type": "markdown",
      "source": [
        "## **Conclusion**"
      ],
      "metadata": {
        "id": "Qixyd6SpJU69"
      }
    },
    {
      "cell_type": "markdown",
      "source": [
        "After apply different classification SVC outperform stochastic gradient machine learning, random forest. Furthermore on model opitmzation SVC accuracy further increased to 92%.\n",
        "<br> as mentioned at the start of model traning section, if used alternative dataset the same accuracy further increased to 95%"
      ],
      "metadata": {
        "id": "4PVULIZJJZep"
      }
    }
  ],
  "metadata": {
    "colab": {
      "provenance": [],
      "toc_visible": true
    },
    "kernelspec": {
      "display_name": "Python 3",
      "name": "python3"
    },
    "language_info": {
      "name": "python"
    }
  },
  "nbformat": 4,
  "nbformat_minor": 0
}